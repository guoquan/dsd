{
 "cells": [
  {
   "cell_type": "markdown",
   "metadata": {},
   "source": [
    "# Tutorial of NvDocker interfaces"
   ]
  },
  {
   "cell_type": "code",
   "execution_count": 1,
   "metadata": {
    "collapsed": true
   },
   "outputs": [],
   "source": [
    "from dsd.sys.docker import NvDocker\n",
    "nvd = NvDocker()"
   ]
  },
  {
   "cell_type": "markdown",
   "metadata": {},
   "source": [
    "# Gpu global informations"
   ]
  },
  {
   "cell_type": "code",
   "execution_count": 2,
   "metadata": {
    "collapsed": false
   },
   "outputs": [
    {
     "name": "stdout",
     "output_type": "stream",
     "text": [
      "('Driver_Version:', u'346.46')\n",
      "('Cuda_Version:', u'7.0')\n"
     ]
    }
   ],
   "source": [
    "globalInfo = nvd.GpuGlobalInfo()\n",
    "\n",
    "print('Driver_Version:', globalInfo['Driver_Version'])\n",
    "print('Cuda_Version:', globalInfo['Cuda_Version'])"
   ]
  },
  {
   "cell_type": "markdown",
   "metadata": {},
   "source": [
    "# Gpu status"
   ]
  },
  {
   "cell_type": "code",
   "execution_count": 3,
   "metadata": {
    "collapsed": false
   },
   "outputs": [
    {
     "name": "stdout",
     "output_type": "stream",
     "text": [
      "####################\n",
      "('Model:', u'Graphics Device')\n",
      "('Path:', u'/dev/nvidia0')\n",
      "('Memory_Used:', 9860, 'MB')\n",
      "('Memory_Total:', 12287, 'MB')\n",
      "('Utilization_Gpu:', 76)\n",
      "('Utilization_Memory:', 41)\n",
      "('Temperature:', 82)\n",
      "('          ', 'PID:', 5749, 'Name:', u'python', 'MemoryUsed:', 2718, 'MB')\n",
      "('          ', 'PID:', 2673, 'Name:', u'python', 'MemoryUsed:', 127, 'MB')\n",
      "('          ', 'PID:', 2988, 'Name:', u'python', 'MemoryUsed:', 127, 'MB')\n",
      "('          ', 'PID:', 21497, 'Name:', u'python', 'MemoryUsed:', 127, 'MB')\n",
      "('          ', 'PID:', 13504, 'Name:', u'/home/zhouyao/conda/anaconda/bin/python', 'MemoryUsed:', 1974, 'MB')\n",
      "('          ', 'PID:', 24486, 'Name:', u'/home/zhouyao/conda/anaconda/bin/python', 'MemoryUsed:', 129, 'MB')\n",
      "('          ', 'PID:', 10879, 'Name:', u'/home/zhouyao/conda/anaconda/bin/python', 'MemoryUsed:', 1972, 'MB')\n",
      "('          ', 'PID:', 26769, 'Name:', u'/home/zhouyao/conda/anaconda/bin/python', 'MemoryUsed:', 306, 'MB')\n",
      "('          ', 'PID:', 31240, 'Name:', u'python', 'MemoryUsed:', 2328, 'MB')\n",
      "####################\n",
      "('Model:', u'Graphics Device')\n",
      "('Path:', u'/dev/nvidia1')\n",
      "('Memory_Used:', 11522, 'MB')\n",
      "('Memory_Total:', 12287, 'MB')\n",
      "('Utilization_Gpu:', 99)\n",
      "('Utilization_Memory:', 31)\n",
      "('Temperature:', 82)\n",
      "('          ', 'PID:', 2988, 'Name:', u'python', 'MemoryUsed:', 8386, 'MB')\n",
      "('          ', 'PID:', 24486, 'Name:', u'/home/zhouyao/conda/anaconda/bin/python', 'MemoryUsed:', 3101, 'MB')\n",
      "####################\n",
      "('Model:', u'Graphics Device')\n",
      "('Path:', u'/dev/nvidia2')\n",
      "('Memory_Used:', 11884, 'MB')\n",
      "('Memory_Total:', 12287, 'MB')\n",
      "('Utilization_Gpu:', 99)\n",
      "('Utilization_Memory:', 46)\n",
      "('Temperature:', 82)\n",
      "('          ', 'PID:', 2673, 'Name:', u'python', 'MemoryUsed:', 6701, 'MB')\n",
      "('          ', 'PID:', 24039, 'Name:', u'python', 'MemoryUsed:', 132, 'MB')\n",
      "('          ', 'PID:', 21497, 'Name:', u'python', 'MemoryUsed:', 1915, 'MB')\n",
      "('          ', 'PID:', 4905, 'Name:', u'/home/zhouyao/conda/anaconda/bin/python', 'MemoryUsed:', 3098, 'MB')\n",
      "####################\n",
      "('Model:', u'Graphics Device')\n",
      "('Path:', u'/dev/nvidia3')\n",
      "('Memory_Used:', 3890, 'MB')\n",
      "('Memory_Total:', 12287, 'MB')\n",
      "('Utilization_Gpu:', 93)\n",
      "('Utilization_Memory:', 25)\n",
      "('Temperature:', 76)\n",
      "('          ', 'PID:', 8129, 'Name:', u'python', 'MemoryUsed:', 3573, 'MB')\n",
      "('          ', 'PID:', 19184, 'Name:', u'python', 'MemoryUsed:', 286, 'MB')\n"
     ]
    }
   ],
   "source": [
    "gpuInfo = nvd.GpuInfo()\n",
    "\n",
    "for i in range(len(gpuInfo)):\n",
    "    print('#'*20)\n",
    "    print('Model:', gpuInfo[i]['Model'])\n",
    "    print('Path:', gpuInfo[i]['Path'])\n",
    "    print('Memory_Used:', gpuInfo[i]['Memory_Used'], 'MB')\n",
    "    print('Memory_Total:', gpuInfo[i]['Memory_Total'], 'MB')\n",
    "    \n",
    "    print('Utilization_Gpu:', gpuInfo[i]['Utilization_Gpu'])\n",
    "    print('Utilization_Memory:', gpuInfo[i]['Utilization_Memory'])\n",
    "    print('Temperature:', gpuInfo[i]['Temperature'])\n",
    "    \n",
    "    for p in gpuInfo[i]['Processes']:\n",
    "        print(' '*10, 'PID:', p['PID'], 'Name:', p['Name'], 'MemoryUsed:', p['MemoryUsed'], 'MB')"
   ]
  },
  {
   "cell_type": "code",
   "execution_count": null,
   "metadata": {
    "collapsed": true
   },
   "outputs": [],
   "source": []
  }
 ],
 "metadata": {
  "kernelspec": {
   "display_name": "Python 2",
   "language": "python",
   "name": "python2"
  },
  "language_info": {
   "codemirror_mode": {
    "name": "ipython",
    "version": 2
   },
   "file_extension": ".py",
   "mimetype": "text/x-python",
   "name": "python",
   "nbconvert_exporter": "python",
   "pygments_lexer": "ipython2",
   "version": "2.7.10"
  }
 },
 "nbformat": 4,
 "nbformat_minor": 0
}
