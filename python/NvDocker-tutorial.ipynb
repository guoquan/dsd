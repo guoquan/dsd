{
 "cells": [
  {
   "cell_type": "markdown",
   "metadata": {},
   "source": [
    "# Tutorial of NvDocker interfaces"
   ]
  },
  {
   "cell_type": "code",
   "execution_count": 10,
   "metadata": {
    "collapsed": false
   },
   "outputs": [],
   "source": [
    "import socket\n",
    "from dsd.sys.docker import NvDocker\n",
    "\n",
    "try:\n",
    "    socket.gethostbyname('dockerhost')\n",
    "    base_url = 'http://dockerhost:3476'\n",
    "except socket.error:\n",
    "    base_url = 'http://localhost:3476'\n",
    "    \n",
    "nvd = NvDocker(base_url=base_url)"
   ]
  },
  {
   "cell_type": "markdown",
   "metadata": {},
   "source": [
    "# Gpu global informations"
   ]
  },
  {
   "cell_type": "code",
   "execution_count": 11,
   "metadata": {
    "collapsed": false
   },
   "outputs": [
    {
     "name": "stdout",
     "output_type": "stream",
     "text": [
      "Driver Version: 352.39\n",
      "CUDA Version: 7.5\n"
     ]
    }
   ],
   "source": [
    "globalInfo = nvd.gpuGlobalInfo()\n",
    "\n",
    "print 'Driver Version:', globalInfo['DriverVersion']\n",
    "print 'CUDA Version:', globalInfo['CudaVersion']"
   ]
  },
  {
   "cell_type": "markdown",
   "metadata": {},
   "source": [
    "# Gpu status"
   ]
  },
  {
   "cell_type": "code",
   "execution_count": 12,
   "metadata": {
    "collapsed": false
   },
   "outputs": [
    {
     "name": "stdout",
     "output_type": "stream",
     "text": [
      "####################\n",
      "Model: Tesla K40m\n",
      "Path: /dev/nvidia0\n",
      "Memory: 1446 / 11519 MB\n",
      "Utilization GPU: 69\n",
      "Utilization Memory: 34\n",
      "Temperature: 47\n",
      "         PID: 20401 Name: /usr/bin/python MemoryUsed: 73 MB\n",
      "         PID: 30093 Name: python MemoryUsed: 1347 MB\n",
      "####################\n",
      "Model: Tesla K40m\n",
      "Path: /dev/nvidia1\n",
      "Memory: 162 / 11519 MB\n",
      "Utilization GPU: 0\n",
      "Utilization Memory: 0\n",
      "Temperature: 37\n",
      "         PID: 30093 Name: python MemoryUsed: 137 MB\n"
     ]
    }
   ],
   "source": [
    "gpuInfo = nvd.gpuInfo()\n",
    "\n",
    "for gpu in gpuInfo:\n",
    "    print '#' * 20\n",
    "    print 'Model:', gpu['Model']\n",
    "    print 'Path:', gpu['Path']\n",
    "    print 'Memory:', gpu['MemoryUsed'], '/', gpu['MemoryTotal'], 'MB'\n",
    "    \n",
    "    print 'Utilization GPU:', gpu['UtilizationGpu']\n",
    "    print 'Utilization Memory:', gpu['UtilizationMemory']\n",
    "    print 'Temperature:', gpu['Temperature']\n",
    "    \n",
    "    for p in gpu['Processes']:\n",
    "        print ' '*8, 'PID:', p['PID'], 'Name:', p['Name'], 'MemoryUsed:', p['MemoryUsed'], 'MB'"
   ]
  }
 ],
 "metadata": {
  "kernelspec": {
   "display_name": "Python 2",
   "language": "python",
   "name": "python2"
  },
  "language_info": {
   "codemirror_mode": {
    "name": "ipython",
    "version": 2
   },
   "file_extension": ".py",
   "mimetype": "text/x-python",
   "name": "python",
   "nbconvert_exporter": "python",
   "pygments_lexer": "ipython2",
   "version": "2.7.6"
  }
 },
 "nbformat": 4,
 "nbformat_minor": 0
}
