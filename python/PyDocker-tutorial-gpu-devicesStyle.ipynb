{
 "cells": [
  {
   "cell_type": "markdown",
   "metadata": {},
   "source": [
    "# A step-by-step tutorial of pydocker usage\n",
    "\n",
    "*GPU binding is not presented in this test.*"
   ]
  },
  {
   "cell_type": "code",
   "execution_count": 35,
   "metadata": {
    "collapsed": false
   },
   "outputs": [],
   "source": [
    "from dsd.sys.docker import PyDocker, HC, HCP"
   ]
  },
  {
   "cell_type": "code",
   "execution_count": 36,
   "metadata": {
    "collapsed": false
   },
   "outputs": [
    {
     "name": "stdout",
     "output_type": "stream",
     "text": [
      "init pydocker\n"
     ]
    }
   ],
   "source": [
    "import socket\n",
    "try:\n",
    "    socket.gethostbyname('dockerhost')\n",
    "    base_url = 'http://dockerhost:4243'\n",
    "except socket.error:\n",
    "    base_url = 'unix:///var/run/docker.sock'\n",
    "    \n",
    "docker = PyDocker(base_url)"
   ]
  },
  {
   "cell_type": "code",
   "execution_count": 37,
   "metadata": {
    "collapsed": false
   },
   "outputs": [
    {
     "data": {
      "text/plain": [
       "<class dsd.sys.docker.pydocker.PyDocker at 0x7f477843a530>"
      ]
     },
     "execution_count": 37,
     "metadata": {},
     "output_type": "execute_result"
    }
   ],
   "source": [
    "PyDocker"
   ]
  },
  {
   "cell_type": "markdown",
   "metadata": {},
   "source": [
    "# 1. Build\n",
    "\n",
    "default dockerfile name is `Dockerfile`\n",
    "\n",
    "* Dockerfile:\n",
    "```\n",
    "# For Test\n",
    "FROM dsdgroup/jupyter:cpu\n",
    "MAINTAINER zy <zy3381@gmail.com>\n",
    "EXPOSE 9999\n",
    "```\n",
    "\n",
    "* returns: build logs"
   ]
  },
  {
   "cell_type": "code",
   "execution_count": 47,
   "metadata": {
    "collapsed": false,
    "scrolled": true
   },
   "outputs": [
    {
     "name": "stdout",
     "output_type": "stream",
     "text": [
      "# For Test\n",
      "FROM dsdgroup/jupyter:cpu\n",
      "MAINTAINER zy <zy3381@gmail.com>\n",
      "EXPOSE 9999\n",
      "\n",
      "{\"stream\":\"Step 1 : FROM dsdgroup/jupyter:cpu\\n\"}\n",
      "\n",
      "{\"stream\":\" ---\\u003e e21cb4e5f96c\\n\"}\n",
      "\n",
      "{\"stream\":\"Step 2 : MAINTAINER zy \\u003czy3381@gmail.com\\u003e\\n\"}\n",
      "\n",
      "{\"stream\":\" ---\\u003e Using cache\\n\"}\n",
      "\n",
      "{\"stream\":\" ---\\u003e 8f02ad69ef0a\\n\"}\n",
      "\n",
      "{\"stream\":\"Step 3 : EXPOSE 9999\\n\"}\n",
      "\n",
      "{\"stream\":\" ---\\u003e Running in 578999735deb\\n\"}\n",
      "\n",
      "{\"stream\":\" ---\\u003e cbc92338b3f4\\n\"}\n",
      "\n",
      "{\"stream\":\"Successfully built cbc92338b3f4\\n\"}\n",
      "\n"
     ]
    }
   ],
   "source": [
    "imageTag = 'buildtest'\n",
    "response = docker.build(tag=imageTag, dockerfilePath='../docker/test/cpu')\n",
    "if response:\n",
    "    for line in response:\n",
    "        print(line)\n",
    "else:\n",
    "    print('build failed')"
   ]
  },
  {
   "cell_type": "markdown",
   "metadata": {},
   "source": [
    "# 2. list images"
   ]
  },
  {
   "cell_type": "code",
   "execution_count": 48,
   "metadata": {
    "collapsed": false,
    "scrolled": false
   },
   "outputs": [
    {
     "name": "stdout",
     "output_type": "stream",
     "text": [
      "buildtest:latest\n",
      "dsdgroup/jupyter:cpu\n",
      "guoq/igym:latest\n",
      "dsdgroup/dsd-console:latest\n",
      "dsd-console:latest\n",
      "nvidia/cuda:7.5-runtime\n",
      "wangjianyong/mxnet-cuda:7.5\n",
      "wangjianyong/mxnet:latest\n",
      "wangjianyong/jupyter-cuda:7.5\n",
      "wangjianyong/jupyter:latest\n",
      "nvidia/cuda:7.5-cudnn4-devel\n",
      "nvidia/cuda:7.5-devel\n",
      "ubuntu:14.04\n"
     ]
    }
   ],
   "source": [
    "pses = docker.images()\n",
    "for line in pses:\n",
    "    print line['RepoTags']"
   ]
  },
  {
   "cell_type": "markdown",
   "metadata": {},
   "source": [
    "# 3. create\n",
    "\n",
    "`imageTag` comes from step 1.\n",
    "\n",
    "## parameters\n",
    "\n",
    "| name | value | remark |\n",
    "| ---- | ----- | ------ |\n",
    "| `name` | `'myUbuntuTest'` | nothing special | \n",
    "| `ports`| `[HC(1234, 8888), HC(5678, 7777), HC(c=9999)]` | 0.0.0.0:5678->7777/tcp, <br> 0.0.0.0:1234->8888/tcp, <br> 0.0.0.0:32770->9999/tcp. <br> See `HC()` for more detail. |\n",
    "| `volumes` | `[HCP('/tmp', '/mnt/host/tmp')]` | volume in host: `/tmp`, <br> volume in container: `/mnt/host/tmp`. <br> See `HCP()` for more detail. |\n",
    "\n",
    "`HC()` is the `namedtuple` to hold host-to-container mapping pairs.\n",
    "Attribute `h` refers to the host and `c` to the container. This is primarily used in assigning ports.\n",
    "* `c` must be set, or we will just throw this tuple away before creating the container since it does not specify a valid port mapping.\n",
    "\n",
    "`HCP()`, similar to `HC`, is the `namedtuple` to hold host-container-privilige tuple.\n",
    "Attribute `h` for the host, `c` for the container, and `p` for the privilige. This is primarily used in assigning volumes and devices.\n",
    "* In both cases, setting either `h` or `c` is must, or the tuple will simply be dropped. Setting one of `h` and `c` to `None` will map same path. \n",
    "* In the case of volumes, `p` can be assign to `rw` for read/write (default) or `ro` for read-only access.\n",
    "* In the case of devices, `p` is usually set to `rwm` (default).\n",
    "\n",
    "For both `HC` and `HCP`, we use some special tricks to allow default value. They are all default to `None`.\n",
    "Refer to above specification for interpretation of `None` in each case.\n",
    "\n",
    "*GPU binding is not tested here.*"
   ]
  },
  {
   "cell_type": "code",
   "execution_count": 49,
   "metadata": {
    "collapsed": false
   },
   "outputs": [
    {
     "name": "stdout",
     "output_type": "stream",
     "text": [
      "container is runing with id:\n",
      "e727d5e94599c307a12a7b531c48523b232d24db75fd774a94ee1f7704a6cb06\n"
     ]
    }
   ],
   "source": [
    "container = docker.create(image=imageTag, \n",
    "           detach=True, \n",
    "           stdin_open=True, \n",
    "           tty=True, \n",
    "           command=None, \n",
    "           name='myUbuntuTest',\n",
    "           user=None,\n",
    "           ports=[HC(1234, 8888), HC(5678, 7777), HC(c=9999)],\n",
    "           volumes=[HCP('/tmp', '/mnt/host/tmp')],\n",
    "           #devices=[0,1,2,3]\n",
    "           )\n",
    "if container:\n",
    "    print 'container is runing with id:'\n",
    "    print container.get('Id')\n",
    "else:\n",
    "    print 'create container error'"
   ]
  },
  {
   "cell_type": "markdown",
   "metadata": {},
   "source": [
    "# 4. start\n",
    "## *container_id* comes from step 3"
   ]
  },
  {
   "cell_type": "code",
   "execution_count": 50,
   "metadata": {
    "collapsed": false
   },
   "outputs": [
    {
     "name": "stdout",
     "output_type": "stream",
     "text": [
      "container  e727d5e94599c307a12a7b531c48523b232d24db75fd774a94ee1f7704a6cb06  started\n"
     ]
    }
   ],
   "source": [
    "container_id = container.get('Id')\n",
    "response = docker.start(container=container_id)\n",
    "if response:\n",
    "    print 'container ', container_id, ' started'\n",
    "else:\n",
    "    print 'starting container error'"
   ]
  },
  {
   "cell_type": "markdown",
   "metadata": {},
   "source": [
    "# 5. check status"
   ]
  },
  {
   "cell_type": "code",
   "execution_count": 51,
   "metadata": {
    "collapsed": false
   },
   "outputs": [
    {
     "name": "stdout",
     "output_type": "stream",
     "text": [
      "Runing containers:\n",
      "##################\n",
      "buildtest /myUbuntuTest\n",
      "dsdgroup/dsd-console /dsd-console-devel-b7rfgpFN\n",
      "dsdgroup/dsd-console /dsd-console-devel-bZ0cWaL5\n",
      "wangjianyong/mxnet-cuda:7.5 /jpt-test\n"
     ]
    }
   ],
   "source": [
    "pses = docker.ps()\n",
    "print 'Runing containers:'\n",
    "print '##################'\n",
    "for line in pses:\n",
    "    print line['image'], line['name']"
   ]
  },
  {
   "cell_type": "markdown",
   "metadata": {},
   "source": [
    "# 6. Stop "
   ]
  },
  {
   "cell_type": "code",
   "execution_count": 52,
   "metadata": {
    "collapsed": false
   },
   "outputs": [
    {
     "name": "stdout",
     "output_type": "stream",
     "text": [
      "container e727d5e94599c307a12a7b531c48523b232d24db75fd774a94ee1f7704a6cb06 stop succeed\n"
     ]
    }
   ],
   "source": [
    "container_id = container.get('Id')\n",
    "response = docker.stop(container=container_id,\n",
    "                       timeout=0)\n",
    "if response:\n",
    "    print 'container', container_id, 'stop succeed'\n",
    "else:\n",
    "    print '#######################'\n",
    "    print 'container stop failed'"
   ]
  },
  {
   "cell_type": "markdown",
   "metadata": {},
   "source": [
    "# 7. Remove container"
   ]
  },
  {
   "cell_type": "code",
   "execution_count": 53,
   "metadata": {
    "collapsed": false
   },
   "outputs": [
    {
     "name": "stdout",
     "output_type": "stream",
     "text": [
      "container  e727d5e94599c307a12a7b531c48523b232d24db75fd774a94ee1f7704a6cb06 removed succed\n"
     ]
    }
   ],
   "source": [
    "container_id = container.get('Id')\n",
    "response = docker.rm(container=container_id)\n",
    "if response:\n",
    "    print 'container ', container_id, 'removed succed'\n",
    "else:\n",
    "    print '#######################'\n",
    "    print 'container removed failed'"
   ]
  },
  {
   "cell_type": "markdown",
   "metadata": {},
   "source": [
    "# 8. Remove image"
   ]
  },
  {
   "cell_type": "code",
   "execution_count": 54,
   "metadata": {
    "collapsed": false
   },
   "outputs": [
    {
     "name": "stdout",
     "output_type": "stream",
     "text": [
      "image buildtest removed succeed\n"
     ]
    }
   ],
   "source": [
    "response = docker.rmi(image=imageTag,\n",
    "                      force=False,\n",
    "                      noprune=None)\n",
    "if response:\n",
    "    print 'image', imageTag, 'removed succeed'\n",
    "else:\n",
    "    print '#######################'\n",
    "    print 'image removed failed'"
   ]
  }
 ],
 "metadata": {
  "kernelspec": {
   "display_name": "Python 2",
   "language": "python",
   "name": "python2"
  },
  "language_info": {
   "codemirror_mode": {
    "name": "ipython",
    "version": 2
   },
   "file_extension": ".py",
   "mimetype": "text/x-python",
   "name": "python",
   "nbconvert_exporter": "python",
   "pygments_lexer": "ipython2",
   "version": "2.7.6"
  }
 },
 "nbformat": 4,
 "nbformat_minor": 0
}
