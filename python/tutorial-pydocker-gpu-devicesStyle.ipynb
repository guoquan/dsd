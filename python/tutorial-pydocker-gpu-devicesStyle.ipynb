{
 "cells": [
  {
   "cell_type": "markdown",
   "metadata": {},
   "source": [
    "# A step-by-step tutorial of pydocker usage\n",
    "## Main difference between gpu and non-gpu is a extra parameter 'devices' in docker.run()"
   ]
  },
  {
   "cell_type": "code",
   "execution_count": 1,
   "metadata": {
    "collapsed": false
   },
   "outputs": [],
   "source": [
    "from dsd.sys.docker.pydocker import pydocker\n",
    "from io import BytesIO\n",
    "import os"
   ]
  },
  {
   "cell_type": "code",
   "execution_count": 2,
   "metadata": {
    "collapsed": false
   },
   "outputs": [
    {
     "name": "stdout",
     "output_type": "stream",
     "text": [
      "init pydocker\n"
     ]
    }
   ],
   "source": [
    "docker = pydocker()"
   ]
  },
  {
   "cell_type": "code",
   "execution_count": 3,
   "metadata": {
    "collapsed": false
   },
   "outputs": [
    {
     "data": {
      "text/plain": [
       "<dsd.sys.docker.pydocker.pydocker instance at 0x7fd394083128>"
      ]
     },
     "execution_count": 3,
     "metadata": {},
     "output_type": "execute_result"
    }
   ],
   "source": [
    "docker"
   ]
  },
  {
   "cell_type": "markdown",
   "metadata": {},
   "source": [
    "# 1. Build\n",
    "## default dockerfile name is $Dockerfile$\n",
    "Dockerfile:\n",
    "```\n",
    "# For Test\n",
    "FROM ubuntu:14.04\n",
    "MAINTAINER zy <zy3381@gmail.com>\n",
    "EXPOSE 9999\n",
    "```\n",
    "## returns: build logs"
   ]
  },
  {
   "cell_type": "code",
   "execution_count": 4,
   "metadata": {
    "collapsed": false
   },
   "outputs": [
    {
     "name": "stdout",
     "output_type": "stream",
     "text": [
      "# For Test\n",
      "FROM guoq/imxnet:cuda-7.0\n",
      "MAINTAINER zy <zy3381@gmail.com>\n",
      "EXPOSE 9999\n",
      "\n",
      "{\"stream\":\"Step 1 : FROM guoq/imxnet:cuda-7.0\\n\"}\n",
      "\n",
      "{\"stream\":\" ---\\u003e df99d4c54180\\n\"}\n",
      "\n",
      "{\"stream\":\"Step 2 : MAINTAINER zy \\u003czy3381@gmail.com\\u003e\\n\"}\n",
      "\n",
      "{\"stream\":\" ---\\u003e Using cache\\n\"}\n",
      "\n",
      "{\"stream\":\" ---\\u003e c01876790713\\n\"}\n",
      "\n",
      "{\"stream\":\"Step 3 : EXPOSE 9999\\n\"}\n",
      "\n",
      "{\"stream\":\" ---\\u003e Running in dfbe6a687913\\n\"}\n",
      "\n",
      "{\"stream\":\" ---\\u003e e2dcb98db841\\n\"}\n",
      "\n",
      "{\"stream\":\"Successfully built e2dcb98db841\\n\"}\n",
      "\n"
     ]
    }
   ],
   "source": [
    "imageTag = 'joe/buildgputest:cuda7.0'\n",
    "response = docker.build(tag=imageTag, dockerfilePath='../docker/test_gpu')\n",
    "if response:\n",
    "    for line in response:\n",
    "        print line\n",
    "else:\n",
    "    print 'build failed'"
   ]
  },
  {
   "cell_type": "markdown",
   "metadata": {},
   "source": [
    "# 2. list images"
   ]
  },
  {
   "cell_type": "code",
   "execution_count": 5,
   "metadata": {
    "collapsed": false,
    "scrolled": true
   },
   "outputs": [
    {
     "name": "stdout",
     "output_type": "stream",
     "text": [
      "joe/buildgputest:cuda7.0\n",
      "sample:nvidia-smi\n",
      "sample:vectorAdd\n",
      "sample:nbody\n",
      "sample:matrixMulCUBLAS\n",
      "sample:deviceQuery\n",
      "sample:bandwidthTest\n",
      "cuda:7.5\n",
      "cuda:7.5-runtime\n",
      "wlt_torch:latest\n",
      "nvidia/cuda:7.0\n",
      "nvidia/cuda:latest\n",
      "joe/test1:latest\n",
      "wzz/lasagne:latest\n",
      "kaixhin/cuda-theano:7.0\n",
      "shawn/cuda-mxnet:422\n",
      "<none>:<none>\n",
      "cuda-mxnet:20160421\n",
      "kaixhin/cudnn:7.0\n",
      "wangjianyong/mxnet_jupyter:latest\n",
      "caffe:latest\n",
      "guoq/imxnet:cuda-7.0\n",
      "<none>:<none>\n",
      "ubuntu:14.04\n",
      "hello-world:latest\n",
      "kaixhin/cuda-digits:latest\n",
      "kaixhin/cuda:7.0\n"
     ]
    }
   ],
   "source": [
    "pses = docker.images()\n",
    "for line in pses:\n",
    "    print line['RepoTags']"
   ]
  },
  {
   "cell_type": "markdown",
   "metadata": {},
   "source": [
    "# 3. run\n",
    "## $imageTag$ comes from step 1\n",
    "## params:\n",
    "## name='myUbuntuTest',\n",
    "==============================================================\n",
    "## ports_dict={1234:8888, 5678:7777}, similar to 'docker -p'\n",
    "### [hostPort:containerPort],   type:dict\n",
    "## ports_list=[9999], similar to 'docker -P'\n",
    "### dynamic assign a port on host \n",
    "#### net stat: *0.0.0.0:5678->7777/tcp, 0.0.0.0:1234->8888/tcp, 0.0.0.0:32770->9999/tcp*\n",
    "==============================================================\n",
    "## volumes={'/home/zhouyao/':'/mnt/homeOfJoe'},   type:dict\n",
    "#### volume in host: */home/zhouyao/*, volume in container: */mnt/homeOfJoe*\n",
    "==============================================================\n",
    "## GPU devices: specified four gpu cards(0-3),  type:list\n",
    "\n",
    "#### tests below all successed in mxnet \n",
    "\n",
    "```\n",
    "import mxnet as mx\n",
    "a1 = mx.ndarray.ones([1,1], ctx=mx.gpu(0))\n",
    "a2 = mx.ndarray.ones([1,1], ctx=mx.gpu(1))\n",
    "a3 = mx.ndarray.ones([1,1], ctx=mx.gpu(2))\n",
    "a4 = mx.ndarray.ones([1,1], ctx=mx.gpu(3))\n",
    "```"
   ]
  },
  {
   "cell_type": "code",
   "execution_count": 6,
   "metadata": {
    "collapsed": false
   },
   "outputs": [
    {
     "name": "stdout",
     "output_type": "stream",
     "text": [
      "container is runing with id:\n",
      "34e5c4db6d237e4d978cc958111cf449109548e0af0ede0bcd45289cc0180b09\n"
     ]
    }
   ],
   "source": [
    "container = docker.run(image=imageTag, \n",
    "           detach=True, \n",
    "           stdin_open=True, \n",
    "           tty=True, \n",
    "           command='bash', \n",
    "           name='myGpuTest',\n",
    "           user=None,\n",
    "                        \n",
    "           ports_dict={1234:8888, 5678:7777}, \n",
    "           ports_list=[9999],\n",
    "                       \n",
    "           volumes={'/home/zhouyao/':'/mnt/homeOfJoe'},\n",
    "                       \n",
    "           devices=[0,1,2,3]\n",
    "           )\n",
    "if container is not None:\n",
    "    print 'container is runing with id:'\n",
    "    print container.get('Id')\n",
    "else:\n",
    "    print 'create container error'"
   ]
  },
  {
   "cell_type": "markdown",
   "metadata": {},
   "source": [
    "# 4. start\n",
    "## *container_id* comes from step 3"
   ]
  },
  {
   "cell_type": "code",
   "execution_count": 7,
   "metadata": {
    "collapsed": false
   },
   "outputs": [
    {
     "name": "stdout",
     "output_type": "stream",
     "text": [
      "container  34e5c4db6d237e4d978cc958111cf449109548e0af0ede0bcd45289cc0180b09  started\n"
     ]
    }
   ],
   "source": [
    "container_id = container.get('Id')\n",
    "response = docker.start(container=container_id)\n",
    "if response:\n",
    "    print 'container ', container_id, ' started'\n",
    "else:\n",
    "    print 'starting container error'"
   ]
  },
  {
   "cell_type": "markdown",
   "metadata": {},
   "source": [
    "# 5. check status"
   ]
  },
  {
   "cell_type": "code",
   "execution_count": 8,
   "metadata": {
    "collapsed": false
   },
   "outputs": [
    {
     "name": "stdout",
     "output_type": "stream",
     "text": [
      "Runing containers:\n",
      "##################\n",
      "joe/buildgputest:cuda7.0 /myGpuTest\n",
      "ubuntu:14.04 /simpleDQN\n",
      "ubuntu:14.04 /simple_dqn\n",
      "wzz/lasagne /wzz_docker\n",
      "guoq/imxnet:cuda-7.0 /lwb-mxnet\n",
      "sha256:c832a806ee999c1091fc279fd427bf331e838c57789e21d9d59ed4b98826c377 /wjy-mxnet\n"
     ]
    }
   ],
   "source": [
    "pses = docker.ps()\n",
    "print 'Runing containers:'\n",
    "print '##################'\n",
    "for line in pses:\n",
    "    print line['image'], line['name']"
   ]
  },
  {
   "cell_type": "markdown",
   "metadata": {},
   "source": [
    "# 6. Stop "
   ]
  },
  {
   "cell_type": "code",
   "execution_count": 9,
   "metadata": {
    "collapsed": false
   },
   "outputs": [
    {
     "name": "stdout",
     "output_type": "stream",
     "text": [
      "container 34e5c4db6d237e4d978cc958111cf449109548e0af0ede0bcd45289cc0180b09 stop succeed\n"
     ]
    }
   ],
   "source": [
    "container_id = container.get('Id')\n",
    "response = docker.stop(container=container_id,\n",
    "                       timeout=0)\n",
    "if response:\n",
    "    print 'container', container_id, 'stop succeed'\n",
    "else:\n",
    "    print '#######################'\n",
    "    print 'container stop failed'"
   ]
  },
  {
   "cell_type": "markdown",
   "metadata": {},
   "source": [
    "# 7. Remove container"
   ]
  },
  {
   "cell_type": "code",
   "execution_count": 10,
   "metadata": {
    "collapsed": false
   },
   "outputs": [
    {
     "name": "stdout",
     "output_type": "stream",
     "text": [
      "container  34e5c4db6d237e4d978cc958111cf449109548e0af0ede0bcd45289cc0180b09 removed succed\n"
     ]
    }
   ],
   "source": [
    "container_id = container.get('Id')\n",
    "response = docker.rm(container=container_id)\n",
    "if response:\n",
    "    print 'container ', container_id, 'removed succed'\n",
    "else:\n",
    "    print '#######################'\n",
    "    print 'container removed failed'"
   ]
  },
  {
   "cell_type": "markdown",
   "metadata": {},
   "source": [
    "# 8. Remove image"
   ]
  },
  {
   "cell_type": "code",
   "execution_count": 11,
   "metadata": {
    "collapsed": false
   },
   "outputs": [
    {
     "name": "stdout",
     "output_type": "stream",
     "text": [
      "image  joe/buildgputest:cuda7.0 removed succeed\n"
     ]
    }
   ],
   "source": [
    "response = docker.rmi(image=imageTag,\n",
    "                      force=False,\n",
    "                      noprune=None)\n",
    "if response:\n",
    "    print 'image ', imageTag, 'removed succeed'\n",
    "else:\n",
    "    print '#######################'\n",
    "    print 'image removed failed'"
   ]
  },
  {
   "cell_type": "code",
   "execution_count": null,
   "metadata": {
    "collapsed": true
   },
   "outputs": [],
   "source": []
  }
 ],
 "metadata": {
  "kernelspec": {
   "display_name": "Python 2",
   "language": "python",
   "name": "python2"
  },
  "language_info": {
   "codemirror_mode": {
    "name": "ipython",
    "version": 2
   },
   "file_extension": ".py",
   "mimetype": "text/x-python",
   "name": "python",
   "nbconvert_exporter": "python",
   "pygments_lexer": "ipython2",
   "version": "2.7.10"
  }
 },
 "nbformat": 4,
 "nbformat_minor": 0
}
