{
 "cells": [
  {
   "cell_type": "markdown",
   "metadata": {},
   "source": [
    "# This tutorial shows how to use the gpu info interface"
   ]
  },
  {
   "cell_type": "code",
   "execution_count": 1,
   "metadata": {
    "collapsed": true
   },
   "outputs": [],
   "source": [
    "from dsd.sys.gpu import gpu"
   ]
  },
  {
   "cell_type": "code",
   "execution_count": 2,
   "metadata": {
    "collapsed": false
   },
   "outputs": [
    {
     "name": "stdout",
     "output_type": "stream",
     "text": [
      "('card:', 0)\n",
      "memory_free:3416 GB\n",
      "memory_total:12287 GB\n",
      "memory_used:8871 GB\n",
      "###########\n",
      "utilization_gpu:99 %\n",
      "utilization_memory:56 %\n",
      "###########\n",
      "temperature:83\n",
      "#######################################\n",
      "('card:', 1)\n",
      "memory_free:428 GB\n",
      "memory_total:12287 GB\n",
      "memory_used:11858 GB\n",
      "###########\n",
      "utilization_gpu:91 %\n",
      "utilization_memory:54 %\n",
      "###########\n",
      "temperature:82\n",
      "#######################################\n",
      "('card:', 2)\n",
      "memory_free:1645 GB\n",
      "memory_total:12287 GB\n",
      "memory_used:10642 GB\n",
      "###########\n",
      "utilization_gpu:99 %\n",
      "utilization_memory:23 %\n",
      "###########\n",
      "temperature:82\n",
      "#######################################\n",
      "('card:', 3)\n",
      "memory_free:373 GB\n",
      "memory_total:12287 GB\n",
      "memory_used:11913 GB\n",
      "###########\n",
      "utilization_gpu:99 %\n",
      "utilization_memory:37 %\n",
      "###########\n",
      "temperature:81\n",
      "#######################################\n"
     ]
    }
   ],
   "source": [
    "g = gpu()\n",
    "gpuList = g.gpu_info()\n",
    "for idx,gpuSingle in enumerate(gpuList):\n",
    "    print('card:', idx)\n",
    "    print('memory_free:{} GB'.format(gpuSingle['memory_free']))\n",
    "    print('memory_total:{} GB'.format(gpuSingle['memory_total']))\n",
    "    print('memory_used:{} GB'.format(gpuSingle['memory_used']))\n",
    "    print('###########')\n",
    "    print('utilization_gpu:{} %'.format(gpuSingle['utilization_gpu']))\n",
    "    print('utilization_memory:{} %'.format(gpuSingle['utilization_memory']))\n",
    "    print('###########')\n",
    "    print('temperature:{}'.format(gpuSingle['temperature']))\n",
    "    print('#######################################')"
   ]
  }
 ],
 "metadata": {
  "kernelspec": {
   "display_name": "Python 2",
   "language": "python",
   "name": "python2"
  },
  "language_info": {
   "codemirror_mode": {
    "name": "ipython",
    "version": 2
   },
   "file_extension": ".py",
   "mimetype": "text/x-python",
   "name": "python",
   "nbconvert_exporter": "python",
   "pygments_lexer": "ipython2",
   "version": "2.7.10"
  }
 },
 "nbformat": 4,
 "nbformat_minor": 0
}
